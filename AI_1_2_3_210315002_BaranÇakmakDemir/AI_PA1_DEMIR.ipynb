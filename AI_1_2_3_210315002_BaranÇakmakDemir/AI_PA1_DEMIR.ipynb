{
 "cells": [
  {
   "cell_type": "markdown",
   "metadata": {},
   "source": [
    "# AI PA1: NQueens\n",
    "**Group members:**\n",
    "- Zeynep KÜRKÇÜ, 190315023\n",
    "- Zeynep Naz CEYHAN, 210315003\n",
    "- Baran Çakmak DEMİR, 210315002\n",
    "\n",
    "**Readme**\n",
    "\n",
    "Give some information about your Python version, development environment, etc.\n",
    "\n",
    "## Part 1: Class definition\n",
    "\n",
    "This is the part that you will implement. See the comments in the code and read the assignment description."
   ]
  },
  {
   "cell_type": "code",
   "execution_count": 1,
   "metadata": {},
   "outputs": [],
   "source": [
    "#import files if needed\n",
    "import random\n",
    "import math\n",
    "\n",
    "#class definition for NQueens\n",
    "class NQueens():\n",
    "    \"\"\" class constructor\n",
    "    initializes the instance attributes N and state \"\"\"\n",
    "    def __init__(self, N):\n",
    "        self.N = N\n",
    "        self.state = \"\"\n",
    "        self._set_state()\n",
    "\n",
    "    \"\"\" returns a formatted string\n",
    "    that represents the instance \"\"\"        \n",
    "    def __str__(self):\n",
    "        return f\"Representation of NQueens Problem:\\nN = {self.N}\\nState = {self.state}\"\n",
    "\n",
    "    \"\"\" Sets the instance attribute state by displaying \n",
    "    a menu to the user. The user either enters the state \n",
    "    manually or prompts the system to generate a random state.\n",
    "    Check if the input state is a valid state. \"\"\"         \n",
    "    def _set_state(self):\n",
    "        while True:\n",
    "            user_input = input(\"Enter the state manually (e.g., '12345') or press 'R' to generate a random state: \").strip()\n",
    "            if user_input.lower() == 'r':\n",
    "                self.state = self.generate_random_state()\n",
    "            else:\n",
    "                if self._is_valid(user_input):\n",
    "                    self.state = user_input\n",
    "                else:\n",
    "                    print(\"Invalid state. Please try again.\")\n",
    "                    continue\n",
    "            break\n",
    "        \n",
    "    \"\"\" generates and returns a valid random state \"\"\"\n",
    "    def generate_random_state(self):\n",
    "        random_state = ''.join(random.sample([str(i) for i in range(1, self.N + 1)], self.N))\n",
    "        return random_state   \n",
    "    \n",
    "    \"\"\" This is an internal function that takes a state as input\n",
    "    and return if this is a valid state or not \"\"\"\n",
    "    def _is_valid(self, state):\n",
    "        if not state.isdigit() or len(state) != self.N:\n",
    "            return False\n",
    "        for char in state:\n",
    "            if int(char) < 1 or int(char) > self.N:\n",
    "                return False\n",
    "        return True\n",
    "\n",
    "    \"\"\" This is the primary function of this class.\n",
    "    It returns the number of attacking pairs in the given state board.\n",
    "    \"\"\"  \n",
    "    def _count_attacking_pairs(self, state):\n",
    "\n",
    "        def is_attacking(i, j):\n",
    "            return state[i] == state[j] or abs(int(state[i]) - int(state[j])) == abs(i - j)\n",
    "\n",
    "        count = 0\n",
    "        for i in range(self.N):\n",
    "            for j in range(i + 1, self.N):\n",
    "                if is_attacking(i, j):\n",
    "                    count += 1\n",
    "        return \"Count attacking pairs: \"+ str(count)"
   ]
  },
  {
   "cell_type": "markdown",
   "metadata": {},
   "source": [
    "## Part 2: Testing\n",
    "\n",
    "Do not change this part. This is the test code."
   ]
  },
  {
   "cell_type": "code",
   "execution_count": 3,
   "metadata": {},
   "outputs": [
    {
     "name": "stdout",
     "output_type": "stream",
     "text": [
      "Representation of NQueens Problem:\n",
      "N = 7\n",
      "State = 1234567\n",
      "21\n"
     ]
    }
   ],
   "source": [
    "# This is a test code. You can try with different N values and states.\n",
    "problem = NQueens(7) #create NQueens instance\n",
    "print(problem) #print the description of the problem\n",
    "print(problem._count_attacking_pairs(problem.state)) #print the total number of attacking pairs in the board"
   ]
  },
  {
   "cell_type": "code",
   "execution_count": null,
   "metadata": {},
   "outputs": [],
   "source": []
  }
 ],
 "metadata": {
  "interpreter": {
   "hash": "e922dd073470bdcc017ae3abd31d6491d6ed7bf31c1d559806e5511bfea88b81"
  },
  "kernelspec": {
   "display_name": "Python 3.8.5 64-bit",
   "name": "python3"
  },
  "language_info": {
   "codemirror_mode": {
    "name": "ipython",
    "version": 3
   },
   "file_extension": ".py",
   "mimetype": "text/x-python",
   "name": "python",
   "nbconvert_exporter": "python",
   "pygments_lexer": "ipython3",
   "version": "3.10.9"
  },
  "orig_nbformat": 4
 },
 "nbformat": 4,
 "nbformat_minor": 2
}
